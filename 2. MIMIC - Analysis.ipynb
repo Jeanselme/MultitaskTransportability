{
 "cells": [
  {
   "cell_type": "code",
   "execution_count": null,
   "metadata": {},
   "outputs": [],
   "source": [
    "import numpy as np\n",
    "import pandas as pd\n",
    "import matplotlib.pyplot as plt\n",
    "import seaborn as sns\n",
    "sns.set_theme(style=\"darkgrid\")\n",
    "sns.set_context('paper', font_scale=1.75)"
   ]
  },
  {
   "attachments": {},
   "cell_type": "markdown",
   "metadata": {},
   "source": [
    "# Preparation data"
   ]
  },
  {
   "cell_type": "code",
   "execution_count": null,
   "metadata": {},
   "outputs": [],
   "source": [
    "labs = pd.read_csv('data/mimic/labs_first_day.csv', index_col = [0, 1])\n",
    "outcomes = pd.read_csv('data/mimic/outcomes_first_day.csv', index_col = 0)"
   ]
  },
  {
   "cell_type": "code",
   "execution_count": null,
   "metadata": {},
   "outputs": [],
   "source": [
    "# For paper's tables\n",
    "labs = pd.read_csv('data/mimic/labs_first_day_subselection.csv', index_col = [0, 1])\n",
    "outcomes = pd.read_csv('data/mimic/outcomes_first_day_subselection.csv', index_col = 0)"
   ]
  },
  {
   "attachments": {},
   "cell_type": "markdown",
   "metadata": {},
   "source": [
    "### Analysis"
   ]
  },
  {
   "cell_type": "code",
   "execution_count": null,
   "metadata": {},
   "outputs": [],
   "source": [
    "labs.groupby('Patient').count().mean().sort_values()[-20:].plot.barh(figsize = (5,7))"
   ]
  },
  {
   "attachments": {},
   "cell_type": "markdown",
   "metadata": {},
   "source": [
    "### How many different labs in this period ?"
   ]
  },
  {
   "cell_type": "code",
   "execution_count": null,
   "metadata": {},
   "outputs": [],
   "source": [
    "number_events = ((~labs.isna()).sum(axis = 1) > 0).groupby('Patient').sum()\n",
    "number_events.describe()"
   ]
  },
  {
   "attachments": {},
   "cell_type": "markdown",
   "metadata": {},
   "source": [
    "### In hospial mortality"
   ]
  },
  {
   "cell_type": "code",
   "execution_count": null,
   "metadata": {},
   "outputs": [],
   "source": [
    "print(\"In hospital mortality: {:.2f} % (verification event label: {:.2f} %)\".format(100 * (~outcomes.Death.isna()).mean(), 100 * outcomes.Event.mean()))"
   ]
  },
  {
   "attachments": {},
   "cell_type": "markdown",
   "metadata": {},
   "source": [
    "# Analysis per admission day"
   ]
  },
  {
   "cell_type": "code",
   "execution_count": null,
   "metadata": {},
   "outputs": [],
   "source": [
    "admission = (outcomes.Day <= 4).replace({True: 'Weekdays', False: 'Weekends'})"
   ]
  },
  {
   "cell_type": "code",
   "execution_count": null,
   "metadata": {},
   "outputs": [],
   "source": [
    "outcomes.groupby(admission).count()"
   ]
  },
  {
   "cell_type": "code",
   "execution_count": null,
   "metadata": {},
   "outputs": [],
   "source": [
    "outcomes['INSURANCE'] = outcomes['INSURANCE'].replace({'Medicaid': 'Public', 'Government': 'Public', 'Medicare': 'Public'})"
   ]
  },
  {
   "cell_type": "code",
   "execution_count": null,
   "metadata": {},
   "outputs": [],
   "source": [
    "# To modify to study another group\n",
    "outcome_we = outcomes.loc[admission == 'Weekends']\n",
    "labs_we = labs.loc[labs.index.get_level_values(0).isin(admission[admission == 'Weekends'].index)]\n",
    "\n",
    "outcome_wd = outcomes[admission != 'Weekends']\n",
    "labs_wd = labs[labs.index.get_level_values(0).isin(admission[admission != 'Weekends'].index)]"
   ]
  },
  {
   "cell_type": "code",
   "execution_count": null,
   "metadata": {},
   "outputs": [],
   "source": [
    "# Prepreocess ethnicity\n",
    "ethnicity = outcomes.ETHNICITY.copy()\n",
    "ethnicity[ethnicity.str.contains(\"ASIAN\")] = 'Asian'\n",
    "ethnicity[ethnicity.str.contains(\"HISPANIC\")] = 'Hispanic'\n",
    "ethnicity[ethnicity.str.contains(\"BLACK\")] = 'Black'\n",
    "ethnicity[ethnicity.str.contains(\"WHITE\")] = 'White'\n",
    "ethnicity[(ethnicity != \"Asian\") & (ethnicity != \"Hispanic\") & (ethnicity != \"Black\") & (ethnicity != \"White\")] = 'Other'\n",
    "\n",
    "outcomes.ETHNICITY = ethnicity"
   ]
  },
  {
   "cell_type": "code",
   "execution_count": null,
   "metadata": {},
   "outputs": [],
   "source": [
    "los_mean_we = outcome_we['Time'].mean()\n",
    "los_std_we = outcome_we['Time'].std()\n",
    "los_mean_wd = outcome_wd['Time'].mean()\n",
    "los_std_wd = outcome_wd['Time'].std()\n",
    "los = pd.DataFrame({'Mean': [outcomes['Time'].mean(), los_mean_wd, los_mean_we],\n",
    "                    'Std': [outcomes['Time'].std(), los_std_wd, los_std_we]}, index = ['Population', 'Weekday', 'Weekend']).T\n",
    "\n",
    "death_we = outcome_we['Event'].mean()\n",
    "death_wd = outcome_wd['Event'].mean()\n",
    "death = pd.DataFrame({'':[outcomes['Event'].mean(), death_wd, death_we]}, index = ['Population', 'Weekday', 'Weekend']).T*100\n",
    "\n",
    "insurance_we = outcome_we['INSURANCE'].value_counts() / len(outcome_we)\n",
    "insurance_wd = outcome_wd['INSURANCE'].value_counts() / len(outcome_wd)\n",
    "insurance = pd.concat({\"Population\": outcomes['INSURANCE'].value_counts() / len(outcomes), \"Weekday\": insurance_wd, \"Weekend\": insurance_we}, axis = 1)*100\n",
    "\n",
    "ethnicity_we = ethnicity.loc[admission == 'Weekends'].value_counts() / len(ethnicity.loc[admission == 'Weekends'])\n",
    "ethnicity_wd = ethnicity.loc[admission == 'Weekdays'].value_counts() / len(ethnicity.loc[admission == 'Weekdays'])\n",
    "ethnicity = pd.concat({\"Population\": ethnicity.value_counts() / len(ethnicity), \"Weekday\": ethnicity_wd, \"Weekend\": ethnicity_we}, axis = 1)*100\n",
    "\n",
    "gender_we = outcome_we['GENDER'].replace({'M': 'Male', 'F': 'Female'}).value_counts() / len(outcome_we)\n",
    "gender_wd = outcome_wd['GENDER'].replace({'M': 'Male', 'F': 'Female'}).value_counts() / len(outcome_wd)\n",
    "gender = pd.concat({\"Population\": outcomes['GENDER'].replace({'M': 'Male', 'F': 'Female'}).value_counts() / len(outcomes), \"Weekday\": gender_wd, \"Weekend\": gender_we}, axis = 1)*100"
   ]
  },
  {
   "cell_type": "code",
   "execution_count": null,
   "metadata": {},
   "outputs": [],
   "source": [
    "for i in [7, 30]:\n",
    "    selection = (outcomes.Remaining < i) & outcomes.Event\n",
    "    print(i, selection.groupby(admission).mean(), selection.mean())"
   ]
  },
  {
   "cell_type": "code",
   "execution_count": null,
   "metadata": {},
   "outputs": [],
   "source": [
    "analysis = pd.concat({'LOS': los,\n",
    "           'Death': death,\n",
    "           'Gender': gender,\n",
    "           'Ethnicity': ethnicity,\n",
    "           'Insurance': insurance})\n",
    "print(analysis.to_latex(float_format=\"{:0.2f}\".format))\n",
    "analysis"
   ]
  },
  {
   "cell_type": "code",
   "execution_count": null,
   "metadata": {},
   "outputs": [],
   "source": [
    "import scipy.stats\n",
    "\n",
    "value = labs.groupby('Patient').mean().groupby(admission).apply(lambda x: pd.Series([\"{:.2f} ({:.2f})\".format(mean, std) for mean, std in zip(x.mean(), x.std())], index = x.columns))\n",
    "value.loc['Test'] = ['{:.2f}'.format(scipy.stats.ttest_ind(labs_we[i].groupby('Patient').mean().dropna(), labs_wd[i].groupby('Patient').mean().dropna())[1]) for i in labs_wd.columns]\n",
    "count = labs.groupby('Patient').count().groupby(admission).apply(lambda x: pd.Series([\"{:.2f} ({:.2f})\".format(mean, std) for mean, std in zip(x.mean(), x.std())], index = x.columns))\n",
    "count.loc['Test'] = ['{:.2f}'.format(scipy.stats.ttest_ind(labs_we[i].groupby('Patient').count().dropna(), labs_wd[i].groupby('Patient').count().dropna())[1]) for i in labs_wd.columns]\n",
    "table = pd.concat([value, count]).T\n",
    "print(table.to_latex())\n",
    "table"
   ]
  },
  {
   "cell_type": "code",
   "execution_count": null,
   "metadata": {},
   "outputs": [],
   "source": [
    "ordered_test = labs.groupby('Patient').count().sum(1).to_frame(name = 'Total tests ordered').join(\n",
    "    (outcomes.Day <= 4).rename(\"Admission\").replace({False: \"Weekend\", True: \"Weekday\"})).join(\n",
    "    outcomes.INSURANCE.rename(\"Insurance\").replace({\"Medicare\": \"Public\", \"Medicaid\": \"Public\", \"Government\": \"Public\", \"Self Pay\": \"Private\"})).join(\n",
    "    outcomes.Death.isna().rename(\"Outcome\").replace({True: \"Discharge\", False: \"Death\"})).join(\n",
    "    outcomes.GENDER.rename(\"Sex\")).join(\n",
    "    outcomes.ETHNICITY.rename(\"Ethnicity\").replace({\"Other\": \"Non-White\", \"Black\": \"Non-White\", \"Hispanic\": \"Non-White\", \"Asian\": \"Non-White\"}))"
   ]
  },
  {
   "cell_type": "code",
   "execution_count": null,
   "metadata": {},
   "outputs": [],
   "source": [
    "plt.figure(dpi = 1000)\n",
    "ax = sns.violinplot(x = \"Outcome\", y = \"Total tests ordered\", hue = 'Admission', data = ordered_test, split = True, inner = 'quartile', palette = \"Blues\", cut = 0, fig_size = (10,5))\n",
    "plt.legend(loc='center left', bbox_to_anchor=(1.05, 0.5), title = 'Admission')\n",
    "plt.ylim(20, 70)"
   ]
  },
  {
   "cell_type": "code",
   "execution_count": null,
   "metadata": {},
   "outputs": [],
   "source": [
    "labs_we.index.get_level_values(1).to_series().plot.density(xlim = (0,1))\n",
    "labs_wd.index.get_level_values(1).to_series().plot.density()"
   ]
  },
  {
   "cell_type": "code",
   "execution_count": null,
   "metadata": {},
   "outputs": [],
   "source": [
    "labs_we.index.get_level_values(1).to_series().plot.hist(cumulative = True, weights = np.full(len(labs_we), 1 / len(labs_we.index.get_level_values(0).unique())))\n",
    "labs_wd.index.get_level_values(1).to_series().plot.hist(cumulative = True, alpha = 0.5, weights =  np.full(len(labs_wd), 1 / len(labs_wd.index.get_level_values(0).unique())))"
   ]
  },
  {
   "attachments": {},
   "cell_type": "markdown",
   "metadata": {},
   "source": [
    "# Analyze available labs"
   ]
  },
  {
   "attachments": {},
   "cell_type": "markdown",
   "metadata": {},
   "source": [
    "Keep labs observed in 2 / 3 of populations"
   ]
  },
  {
   "cell_type": "code",
   "execution_count": null,
   "metadata": {},
   "outputs": [],
   "source": [
    "missing_data = labs.groupby('Patient').count()\n",
    "missing_data[missing_data <= 0] = 0\n",
    "missing_data[0 < missing_data] = 1"
   ]
  },
  {
   "cell_type": "code",
   "execution_count": null,
   "metadata": {},
   "outputs": [],
   "source": [
    "selection = missing_data.mean() > 2/3\n",
    "selection = selection[selection].index"
   ]
  },
  {
   "cell_type": "code",
   "execution_count": null,
   "metadata": {},
   "outputs": [],
   "source": [
    "# Remove no observation\n",
    "labs_subselection = labs[selection].dropna(how = 'all')\n",
    "\n",
    "# Keep patients that have at least two measurements\n",
    "patients = labs_subselection.groupby('Patient').size() > 1\n",
    "patients = patients[patients].index\n",
    "labs_subselection = labs_subselection[labs_subselection.index.get_level_values('Patient').isin(patients)]\n",
    "\n",
    "# Update outcomes\n",
    "outcomes_subselection = outcomes[outcomes.index.get_level_values('Patient').isin(labs_subselection.index.get_level_values('Patient'))]"
   ]
  },
  {
   "cell_type": "code",
   "execution_count": null,
   "metadata": {},
   "outputs": [],
   "source": [
    "# Update last observation time (if you remove the last observation time)\n",
    "outcomes_subselection['Remaining'] = (outcomes_subselection.Time.loc[labs_subselection.index.get_level_values(0)] - labs_subselection.index.get_level_values(1)).groupby('Patient').last()"
   ]
  },
  {
   "cell_type": "code",
   "execution_count": null,
   "metadata": {},
   "outputs": [],
   "source": [
    "# Save subsets patients and labs\n",
    "labs_subselection.to_csv('data/mimic/labs_first_day_subselection.csv')\n",
    "outcomes_subselection.to_csv('data/mimic/outcomes_first_day_subselection.csv')"
   ]
  },
  {
   "attachments": {},
   "cell_type": "markdown",
   "metadata": {},
   "source": [
    "# Display observation process"
   ]
  },
  {
   "attachments": {},
   "cell_type": "markdown",
   "metadata": {},
   "source": [
    "Display a random selection for each outcomes of the observation process"
   ]
  },
  {
   "cell_type": "code",
   "execution_count": null,
   "metadata": {},
   "outputs": [],
   "source": [
    "np.random.seed(42)"
   ]
  },
  {
   "cell_type": "code",
   "execution_count": null,
   "metadata": {},
   "outputs": [],
   "source": [
    "n = 30\n",
    "random_selection = {\n",
    "    time: \n",
    "        {\n",
    "            'Early Death\\n(before end of week 1)': outcomes_time[outcomes_time.Event & (outcomes_time.Time < 7)].sample(n = n),\n",
    "            'Later Death': outcomes_time[outcomes_time.Event & (outcomes_time.Time > 7)].sample(n = n),\n",
    "            'Discharged': outcomes_time[outcomes_time.Event].sample(n = n) \n",
    "        } for time, outcomes_time in zip(['Weekday Admission', 'Weekend Admission'], [outcome_wd, outcome_we])\n",
    "    }\n",
    "\n"
   ]
  },
  {
   "cell_type": "code",
   "execution_count": null,
   "metadata": {},
   "outputs": [],
   "source": [
    "for l in np.random.choice(labs.columns, size = 5):\n",
    "    labs_display = labs[l].dropna()\n",
    "\n",
    "    fig, ax = plt.subplots(nrows=3, ncols=2, figsize=(10, 8), sharex = True, sharey = True)\n",
    "    fig.suptitle(l)\n",
    "\n",
    "    for j, time in enumerate(random_selection.keys()):\n",
    "        ax[0, j].set_title(time)\n",
    "        for i, cat in enumerate(random_selection[time].keys()):\n",
    "            ax[i, j].axes.yaxis.set_ticks([])\n",
    "            ax[i, j].set_xlim([0, 24])\n",
    "            ax[i, 0].set_ylabel(cat)\n",
    "            for k, patient in enumerate(random_selection[time][cat].index):\n",
    "                ax[i, j].plot([0, 24], [k, k], ls = '--', alpha = 0.5, c = 'w')\n",
    "                try:\n",
    "                    data_patient = labs_display.loc[patient].index\n",
    "                    ax[i, j].scatter(24 * data_patient, [k] * len(data_patient), alpha = 0.8, marker = 'x')\n",
    "                except:\n",
    "                    pass\n",
    "    ax[-1, 1].set_xlabel('Time (in hours)')\n",
    "    ax[-1, 0].set_xlabel('Time (in hours)')\n",
    "    plt.tight_layout()\n",
    "    plt.show()"
   ]
  },
  {
   "cell_type": "code",
   "execution_count": null,
   "metadata": {},
   "outputs": [],
   "source": [
    "fig, ax = plt.subplots(nrows=3, ncols=2, figsize=(10, 8), sharex = True, sharey = True)\n",
    "fig.suptitle(l)\n",
    "\n",
    "for li, l in enumerate(labs.columns):\n",
    "    labs_display = labs[l].dropna()\n",
    "\n",
    "    for j, time in enumerate(random_selection.keys()):\n",
    "        ax[0, j].set_title(time)\n",
    "        for i, cat in enumerate(random_selection[time].keys()):\n",
    "            ax[i, j].axes.yaxis.set_ticks([])\n",
    "            ax[i, j].set_xlim([0, 24])\n",
    "            ax[i, 0].set_ylabel(cat)\n",
    "            for k, patient in enumerate(random_selection[time][cat].index):\n",
    "                if li == 0:\n",
    "                    ax[i, j].plot([0, 24], [k, k], ls = '--', alpha = 0.5, c = 'w')\n",
    "                try:\n",
    "                    data_patient = labs_display.loc[patient].index\n",
    "                    ax[i, j].scatter(24 * data_patient, [k] * len(data_patient), alpha = 0.8, marker = 'x')\n",
    "                except:\n",
    "                    pass\n",
    "ax[-1, 1].set_xlabel('Time (in hours)')\n",
    "ax[-1, 0].set_xlabel('Time (in hours)')\n",
    "plt.tight_layout()\n",
    "plt.show()"
   ]
  },
  {
   "cell_type": "code",
   "execution_count": null,
   "metadata": {},
   "outputs": [],
   "source": []
  }
 ],
 "metadata": {
  "kernelspec": {
   "display_name": "survival",
   "language": "python",
   "name": "python3"
  },
  "language_info": {
   "codemirror_mode": {
    "name": "ipython",
    "version": 3
   },
   "file_extension": ".py",
   "mimetype": "text/x-python",
   "name": "python",
   "nbconvert_exporter": "python",
   "pygments_lexer": "ipython3",
   "version": "3.9.19"
  },
  "vscode": {
   "interpreter": {
    "hash": "f1b50223f39b64c0c24545f474e3e7d2d3b4b121fe045100fc03a3926bb649af"
   }
  }
 },
 "nbformat": 4,
 "nbformat_minor": 4
}
