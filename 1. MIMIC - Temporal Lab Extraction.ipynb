{
 "cells": [
  {
   "attachments": {},
   "cell_type": "markdown",
   "metadata": {},
   "source": [
    "This notebook extracts the lab data and reformat them to have unified denomination. Then extract labels of interest: death and length of stay.\n",
    "\n",
    "This code relies on [`MIMIC_extract`](https://github.com/MLforHealth/MIMIC_Extract) matching dictionary and the [MIMIC III](https://physionet.org/content/mimiciii/1.4/) data.\n",
    "To begin, download the data and update the following variable `PATH`."
   ]
  },
  {
   "cell_type": "code",
   "execution_count": null,
   "metadata": {},
   "outputs": [],
   "source": [
    "PATH = '/home/vincent/Desktop/Cambridge/Data/Mimic/' #'/home/vjemj2/rds/hpc-work/data/mimic/'"
   ]
  },
  {
   "cell_type": "code",
   "execution_count": null,
   "metadata": {},
   "outputs": [],
   "source": [
    "import numpy as np\n",
    "import pandas as pd"
   ]
  },
  {
   "attachments": {},
   "cell_type": "markdown",
   "metadata": {},
   "source": [
    "# Lab data"
   ]
  },
  {
   "attachments": {},
   "cell_type": "markdown",
   "metadata": {},
   "source": [
    "### Mapping labs variables"
   ]
  },
  {
   "cell_type": "code",
   "execution_count": null,
   "metadata": {},
   "outputs": [],
   "source": [
    "mapping = pd.read_csv(PATH + 'itemid_to_variable_map.csv', index_col = 'ITEMID', dtype = {'ITEMID': int})"
   ]
  },
  {
   "cell_type": "code",
   "execution_count": null,
   "metadata": {},
   "outputs": [],
   "source": [
    "mapping"
   ]
  },
  {
   "cell_type": "code",
   "execution_count": null,
   "metadata": {},
   "outputs": [],
   "source": [
    "mapping = pd.read_csv(PATH + 'itemid_to_variable_map.csv', index_col = 'ITEMID', dtype = {'ITEMID': int})\n",
    "mapping = mapping[(mapping['LEVEL2'] != '') &\\\n",
    "                  (mapping['COUNT'] > 0) &\\\n",
    "                  (mapping['STATUS'] == 'ready')\n",
    "                 ]"
   ]
  },
  {
   "cell_type": "code",
   "execution_count": null,
   "metadata": {},
   "outputs": [],
   "source": [
    "mapping.head()"
   ]
  },
  {
   "attachments": {},
   "cell_type": "markdown",
   "metadata": {},
   "source": [
    "### Extract lab data"
   ]
  },
  {
   "cell_type": "code",
   "execution_count": null,
   "metadata": {},
   "outputs": [],
   "source": [
    "labs = pd.read_csv(PATH + 'LABEVENTS.csv', parse_dates = ['CHARTTIME'])"
   ]
  },
  {
   "cell_type": "code",
   "execution_count": null,
   "metadata": {},
   "outputs": [],
   "source": [
    "# Select data and replace itemid with standard format\n",
    "labs = labs[labs.ITEMID.isin(mapping.index)][['SUBJECT_ID', 'HADM_ID', 'ITEMID', 'CHARTTIME', 'VALUENUM']]\n",
    "labs['Lab'] = mapping['LEVEL1'].loc[labs['ITEMID']].values"
   ]
  },
  {
   "cell_type": "code",
   "execution_count": null,
   "metadata": {},
   "outputs": [],
   "source": [
    "labs.head()"
   ]
  },
  {
   "attachments": {},
   "cell_type": "markdown",
   "metadata": {},
   "source": [
    "# Labels"
   ]
  },
  {
   "attachments": {},
   "cell_type": "markdown",
   "metadata": {},
   "source": [
    "Read the patients' outcome and extract the temporal information for labelling the data"
   ]
  },
  {
   "cell_type": "code",
   "execution_count": null,
   "metadata": {},
   "outputs": [],
   "source": [
    "genderAge = pd.read_csv(PATH + 'PATIENTS.csv', usecols = ['SUBJECT_ID', 'GENDER', 'DOB'], parse_dates = ['DOB'])"
   ]
  },
  {
   "cell_type": "code",
   "execution_count": null,
   "metadata": {},
   "outputs": [],
   "source": [
    "admissions = pd.read_csv(PATH + 'ADMISSIONS.csv',  \n",
    "                         usecols = ['SUBJECT_ID', 'HADM_ID', 'ADMISSION_TYPE', 'HOSPITAL_EXPIRE_FLAG', 'DISCHARGE_LOCATION', \n",
    "                                    'ADMITTIME', 'DISCHTIME', 'DEATHTIME', 'ETHNICITY', 'INSURANCE', 'DIAGNOSIS'],\n",
    "                         parse_dates = ['ADMITTIME', 'DISCHTIME', 'DEATHTIME'])\n",
    "admissions = admissions.merge(genderAge, on = 'SUBJECT_ID')"
   ]
  },
  {
   "cell_type": "code",
   "execution_count": null,
   "metadata": {},
   "outputs": [],
   "source": [
    "# Focus only on adults - Update 12.10.2021\n",
    "removed_nan = admissions[['ADMITTIME', 'DOB']].dropna()\n",
    "admissions['AGE'] = np.nan\n",
    "admissions['AGE'][removed_nan.index] = [date.days for date in (removed_nan.ADMITTIME.dt.to_pydatetime() - removed_nan.DOB.dt.to_pydatetime())]\n",
    "admissions.AGE /= 365\n",
    "\n",
    "admissions = admissions[admissions.AGE > 18]"
   ]
  },
  {
   "cell_type": "code",
   "execution_count": null,
   "metadata": {},
   "outputs": [],
   "source": [
    "# Focus on last visits (as space between visit might change process)\n",
    "admissions = admissions.loc[admissions['SUBJECT_ID'].drop_duplicates('last').index]"
   ]
  },
  {
   "cell_type": "code",
   "execution_count": null,
   "metadata": {},
   "outputs": [],
   "source": [
    "# Change times to hours since admission to the hospital\n",
    "# Update to death in Hospital 3.8.2023\n",
    "admissions['Death'] = admissions['DEATHTIME'] - admissions['ADMITTIME']\n",
    "admissions['Stay'] = admissions['DISCHTIME'] - admissions['ADMITTIME']"
   ]
  },
  {
   "cell_type": "code",
   "execution_count": null,
   "metadata": {},
   "outputs": [],
   "source": [
    "# Remove incoherent dates\n",
    "# Revision 12.7.2023\n",
    "admissions = admissions[((admissions['Death'].dt.total_seconds().fillna(1) > 0)) & ((admissions['Stay'].dt.total_seconds().fillna(1) > 0))]"
   ]
  },
  {
   "cell_type": "code",
   "execution_count": null,
   "metadata": {},
   "outputs": [],
   "source": [
    "# Add temproral information\n",
    "# Shift of 4 hours to have patients of weekend from 8pm on Friday to 8pm on Sunday to ensure patients spends at least 12 hours in a low attention environement # Correction => 6.9.2023\n",
    "admissions['Day'] = (admissions['ADMITTIME'] + pd.to_timedelta('4 hours')).dt.weekday"
   ]
  },
  {
   "cell_type": "code",
   "execution_count": null,
   "metadata": {},
   "outputs": [],
   "source": [
    "# Create index for easier search\n",
    "admissions = admissions.set_index('SUBJECT_ID')\n",
    "admissions.head()"
   ]
  },
  {
   "cell_type": "code",
   "execution_count": null,
   "metadata": {},
   "outputs": [],
   "source": [
    "assert len(admissions.HADM_ID.unique()) == len(admissions), \\\n",
    "    \"Different patients have the same HADM_ID, might be a problem for the rest of the code\""
   ]
  },
  {
   "attachments": {},
   "cell_type": "markdown",
   "metadata": {},
   "source": [
    "# Transformation labs"
   ]
  },
  {
   "cell_type": "code",
   "execution_count": null,
   "metadata": {},
   "outputs": [],
   "source": [
    "# Remove unecessary HADM_ID\n",
    "labs = labs[labs.HADM_ID.isin(admissions.HADM_ID)]"
   ]
  },
  {
   "cell_type": "code",
   "execution_count": null,
   "metadata": {},
   "outputs": [],
   "source": [
    "# Change time event to time since admission\n",
    "# Update time after admission to the ICU\n",
    "labs['Time'] = labs.CHARTTIME.values - admissions.ADMITTIME.loc[labs.SUBJECT_ID].values"
   ]
  },
  {
   "cell_type": "code",
   "execution_count": null,
   "metadata": {},
   "outputs": [],
   "source": [
    "labs.head()"
   ]
  },
  {
   "attachments": {},
   "cell_type": "markdown",
   "metadata": {},
   "source": [
    "# Reformat"
   ]
  },
  {
   "attachments": {},
   "cell_type": "markdown",
   "metadata": {},
   "source": [
    "Clean reformating of the dataframe for saving"
   ]
  },
  {
   "cell_type": "code",
   "execution_count": null,
   "metadata": {},
   "outputs": [],
   "source": [
    "labs.rename(columns = {\"SUBJECT_ID\": \"Patient\",\n",
    "                       \"VALUENUM\": \"Value\"}, inplace = True)\n",
    "labs = labs.reset_index(drop = True)[['Patient', 'Time', 'Lab', 'Value']]\n",
    "labs.head()"
   ]
  },
  {
   "cell_type": "code",
   "execution_count": null,
   "metadata": {},
   "outputs": [],
   "source": [
    "admissions.rename_axis(index = \"Patient\", inplace = True)\n",
    "admissions.head()"
   ]
  },
  {
   "attachments": {},
   "cell_type": "markdown",
   "metadata": {},
   "source": [
    "# Selection First days"
   ]
  },
  {
   "cell_type": "code",
   "execution_count": null,
   "metadata": {},
   "outputs": [],
   "source": [
    "first_day = pd.to_timedelta('1 days')\n",
    "admissions = admissions[(admissions.Stay >= first_day) &\\\n",
    "                        ((admissions.Death >= admissions.Stay) | admissions.Death.isna())] # Stayed in hospital at least 24 hours - Time of prediction (and match information)\n",
    "admissions\n",
    "labs = labs[(labs.Time < first_day) &\\\n",
    "              labs.Patient.isin(admissions.index)] # Select all data relevant"
   ]
  },
  {
   "attachments": {},
   "cell_type": "markdown",
   "metadata": {},
   "source": [
    "# Cleaning labs"
   ]
  },
  {
   "cell_type": "code",
   "execution_count": null,
   "metadata": {},
   "outputs": [],
   "source": [
    "# Remove duplicates: same test multiple time at the same time\n",
    "labs = labs[~labs.set_index(['Patient', 'Time', 'Lab']).index.duplicated(keep = False)]"
   ]
  },
  {
   "cell_type": "code",
   "execution_count": null,
   "metadata": {},
   "outputs": [],
   "source": [
    "# Pivot to have test as columns\n",
    "labs = labs.pivot(index = ['Patient', 'Time'], columns = 'Lab')\n",
    "\n",
    "# Change index to have days\n",
    "labs.index = pd.MultiIndex.from_tuples([(x[0], x[1].total_seconds()/(3600.*24)) for x in labs.index], names = labs.index.names)"
   ]
  },
  {
   "cell_type": "code",
   "execution_count": null,
   "metadata": {},
   "outputs": [],
   "source": [
    "# Keep labs that at least 5% population has one\n",
    "# New subselection => 12.7.2023\n",
    "labs = labs[labs.columns[(labs.groupby('Patient').count() >= 1).mean() > 0.05]]\n",
    "labs.head()"
   ]
  },
  {
   "cell_type": "code",
   "execution_count": null,
   "metadata": {},
   "outputs": [],
   "source": [
    "# Keep labs only after admission\n",
    "# Justification: medical process prior to admission might be really different\n",
    "# New subselection => 6.7.2021\n",
    "labs = labs[labs.index.get_level_values('Time') >= 0]\n",
    "labs.head()"
   ]
  },
  {
   "cell_type": "code",
   "execution_count": null,
   "metadata": {},
   "outputs": [],
   "source": [
    "# Remove multi-level index -> 21.12.2022\n",
    "labs.columns = labs.columns.droplevel() "
   ]
  },
  {
   "cell_type": "code",
   "execution_count": null,
   "metadata": {},
   "outputs": [],
   "source": [
    "# Remove empty lines\n",
    "labs = labs.dropna(how = 'all')"
   ]
  },
  {
   "cell_type": "code",
   "execution_count": null,
   "metadata": {},
   "outputs": [],
   "source": [
    "# Keep patients that have at least two measurements\n",
    "patients = labs.groupby('Patient').size() > 1\n",
    "patients = patients[patients].index\n",
    "labs = labs[labs.index.get_level_values('Patient').isin(patients)]"
   ]
  },
  {
   "cell_type": "code",
   "execution_count": null,
   "metadata": {},
   "outputs": [],
   "source": [
    "print(\"Average number of test performed : {:.2f}\".format(labs.groupby('Patient').size().mean()))"
   ]
  },
  {
   "cell_type": "code",
   "execution_count": null,
   "metadata": {},
   "outputs": [],
   "source": [
    "admissions"
   ]
  },
  {
   "attachments": {},
   "cell_type": "markdown",
   "metadata": {},
   "source": [
    "# Clean outcomes"
   ]
  },
  {
   "cell_type": "code",
   "execution_count": null,
   "metadata": {},
   "outputs": [],
   "source": [
    "# Remove patients with no labs\n",
    "admissions = admissions.loc[labs.index.get_level_values(0).unique()]"
   ]
  },
  {
   "cell_type": "code",
   "execution_count": null,
   "metadata": {},
   "outputs": [],
   "source": [
    "admissions['Time'] = admissions.Death.fillna(admissions.Stay) # Either death or length of stay\n",
    "admissions['Time'] = admissions['Time'].dt.total_seconds() / (24 * 60 * 60)\n",
    "admissions['Event'] = admissions['HOSPITAL_EXPIRE_FLAG'] == 1 # Predict Death in Hospital otherwise dischaged (censored if == 0)\n",
    "\n",
    "admissions['Remaining'] = (admissions.Time.loc[labs.index.get_level_values(0)] - labs.index.get_level_values(1)).groupby('Patient').last()"
   ]
  },
  {
   "attachments": {},
   "cell_type": "markdown",
   "metadata": {},
   "source": [
    "# Save"
   ]
  },
  {
   "attachments": {},
   "cell_type": "markdown",
   "metadata": {},
   "source": [
    "Rename columns and save all the data and labels"
   ]
  },
  {
   "cell_type": "code",
   "execution_count": null,
   "metadata": {},
   "outputs": [],
   "source": [
    "labs.to_csv('data/mimic/labs_first_day.csv')\n",
    "admissions.to_csv('data/mimic/outcomes_first_day.csv')"
   ]
  }
 ],
 "metadata": {
  "kernelspec": {
   "display_name": "survival",
   "language": "python",
   "name": "python3"
  },
  "language_info": {
   "codemirror_mode": {
    "name": "ipython",
    "version": 3
   },
   "file_extension": ".py",
   "mimetype": "text/x-python",
   "name": "python",
   "nbconvert_exporter": "python",
   "pygments_lexer": "ipython3",
   "version": "3.9.17"
  },
  "vscode": {
   "interpreter": {
    "hash": "f1b50223f39b64c0c24545f474e3e7d2d3b4b121fe045100fc03a3926bb649af"
   }
  }
 },
 "nbformat": 4,
 "nbformat_minor": 4
}
